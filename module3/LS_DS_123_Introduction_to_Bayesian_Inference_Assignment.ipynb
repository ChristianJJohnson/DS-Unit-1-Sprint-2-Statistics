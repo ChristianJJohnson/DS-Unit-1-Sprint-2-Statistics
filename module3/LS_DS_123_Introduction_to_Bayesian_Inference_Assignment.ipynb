{
  "nbformat": 4,
  "nbformat_minor": 0,
  "metadata": {
    "colab": {
      "name": "LS_DS_123_Introduction_to_Bayesian_Inference_Assignment.ipynb",
      "provenance": []
    },
    "kernelspec": {
      "name": "python3",
      "display_name": "Python 3"
    }
  },
  "cells": [
    {
      "cell_type": "markdown",
      "metadata": {
        "id": "H7OLbevlbd_Z",
        "colab_type": "text"
      },
      "source": [
        "# Lambda School Data Science Module 123\n",
        "\n",
        "## Introduction to Bayesian Inference\n",
        "\n",
        "\n"
      ]
    },
    {
      "cell_type": "markdown",
      "metadata": {
        "id": "P-DzzRk5bf0z",
        "colab_type": "text"
      },
      "source": [
        "## Assignment - Code it up!\n",
        "\n",
        "We used pure math to apply Bayes Theorem to drug tests. Now write Python code to reproduce the results! This is purposefully open ended - you'll have to think about how you should represent probabilities and events. You can and should look things up.\n",
        "\n",
        "### **Specific goals/targets:**"
      ]
    },
    {
      "cell_type": "markdown",
      "metadata": {
        "id": "kHbwSVI-gZ2R",
        "colab_type": "text"
      },
      "source": [
        "### 1) Write a function \n",
        "\n",
        "`def prob_drunk_given_positive(prob_drunk_prior, false_positive_rate):` \n",
        "\n",
        "You should only truly need these two values in order to apply Bayes Theorem. In this example, imagine that individuals are taking a breathalyzer test with an 8% false positive rate, a 100% true positive rate, and that our prior belief about drunk driving in the population is 1/1000. \n",
        " - What is the probability that a person is drunk after one positive breathalyzer test?\n",
        " - What is the probability that a person is drunk after two positive breathalyzer tests?\n",
        " - How many positive breathalyzer tests are needed in order to have a probability that's greater than 95% that a person is drunk beyond the legal limit?"
      ]
    },
    {
      "cell_type": "code",
      "metadata": {
        "id": "UgzF8p3Lc30V",
        "colab_type": "code",
        "colab": {}
      },
      "source": [
        "def prob_drug_use(test_ran, prob_drunk_pri=.001, false_positive_rate=.08):\n",
        "    test = 0\n",
        "    while test < test_ran:\n",
        "        drunk = prob_drunk_pri\n",
        "        positive = false_positive_rate\n",
        "        pos_drunk = 1 * drunk\n",
        "        pri_con = pos_drunk\n",
        "        marginal = positive\n",
        "        posterier = pri_con / marginal\n",
        "        test += 1\n",
        "        posterier = posterier ** test\n",
        "    return '{:.12f}'.format(posterier)"
      ],
      "execution_count": 0,
      "outputs": []
    },
    {
      "cell_type": "code",
      "metadata": {
        "id": "vbbXiQnHfYBP",
        "colab_type": "code",
        "outputId": "2917fb42-3b98-414b-e462-c2a290c71bbb",
        "colab": {
          "base_uri": "https://localhost:8080/",
          "height": 34
        }
      },
      "source": [
        "prob_drug_use(1)"
      ],
      "execution_count": 79,
      "outputs": [
        {
          "output_type": "execute_result",
          "data": {
            "text/plain": [
              "'0.012500000000'"
            ]
          },
          "metadata": {
            "tags": []
          },
          "execution_count": 79
        }
      ]
    },
    {
      "cell_type": "markdown",
      "metadata": {
        "id": "WmTPsmfQgd3w",
        "colab_type": "text"
      },
      "source": [
        "### 2) Explore `scipy.stats.bayes_mvs`  \n",
        "Read its documentation, and experiment with it on data you've tested in other ways earlier this week.\n",
        " - Create a visualization comparing the results of a Bayesian approach to a traditional/frequentist approach. (with a large sample size they should look close to identical, however, take this opportunity to practice visualizing condfidence intervals in general. The following are some potential ways that you could visualize confidence intervals on your graph:\n",
        "  - [Matplotlib Error Bars](https://matplotlib.org/3.1.1/api/_as_gen/matplotlib.pyplot.errorbar.html)\n",
        "  - [Seaborn barplot with error bars](https://seaborn.pydata.org/generated/seaborn.barplot.html)\n",
        "  - [Vertical ines to show bounds of confidence interval](https://www.simplypsychology.org/confidence-interval.jpg)\n",
        "  - [Confidence Intervals on Box Plots](https://matplotlib.org/3.1.1/api/_as_gen/matplotlib.axes.Axes.boxplot.html)\n"
      ]
    },
    {
      "cell_type": "code",
      "metadata": {
        "id": "e6Hcu0Wngk6x",
        "colab_type": "code",
        "colab": {}
      },
      "source": [
        "import numpy as np\n",
        "import pandas as pd\n",
        "from scipy.stats import bayes_mvs"
      ],
      "execution_count": 0,
      "outputs": []
    },
    {
      "cell_type": "code",
      "metadata": {
        "id": "YrwdcKkKgzip",
        "colab_type": "code",
        "colab": {}
      },
      "source": [
        "# help(bayes_mvs)\n",
        "\n",
        "# load some data\n",
        "URL = 'https://archive.ics.uci.edu/ml/machine-learning-databases/breast-cancer/breast-cancer.data'\n",
        "\n",
        "headers = ['Class', 'Age','Menopause', 'Tumor_Size', 'INV_Nodes',\n",
        "           'Nodes_Caps', 'Deg_Malig', 'Breast', 'Breast_Quad', 'Irradiate']\n",
        "\n",
        "bc = pd.read_csv(URL, header=None, names=headers, na_values='?')"
      ],
      "execution_count": 0,
      "outputs": []
    },
    {
      "cell_type": "code",
      "metadata": {
        "id": "y7GQnA1VjoGs",
        "colab_type": "code",
        "outputId": "45733063-ba9f-4cb0-b3be-7b0339a1879f",
        "colab": {
          "base_uri": "https://localhost:8080/",
          "height": 68
        }
      },
      "source": [
        "mean, var, std = bayes_mvs(bc['Deg_Malig'])\n",
        "print(mean)\n",
        "print(var)\n",
        "print(std)"
      ],
      "execution_count": 0,
      "outputs": [
        {
          "output_type": "stream",
          "text": [
            "Mean(statistic=2.0489510489510487, minmax=(1.9769162981171762, 2.120985799784921))\n",
            "Variance(statistic=0.5488151424547185, minmax=(0.47734191087332395, 0.6290613358834508))\n",
            "Std_dev(statistic=0.7401664424132336, minmax=(0.6908993493073531, 0.793133870089691))\n"
          ],
          "name": "stdout"
        }
      ]
    },
    {
      "cell_type": "markdown",
      "metadata": {
        "id": "xeNFj8bigoM3",
        "colab_type": "text"
      },
      "source": [
        "### 3) In your own words, summarize the difference between Bayesian and Frequentist statistics\n",
        "\n",
        "If you're unsure where to start, check out [this blog post of Bayes theorem with Python](https://dataconomy.com/2015/02/introduction-to-bayes-theorem-with-python/)."
      ]
    },
    {
      "cell_type": "markdown",
      "metadata": {
        "id": "ceJCRihZunaz",
        "colab_type": "text"
      },
      "source": [
        "Bayes therom is = The likelihood that the **hypothesis P(A|**B**) ocurrs**, **given** that what the **observed data P(**A**|B) is true** is **equal to** the likelihood of the  **observed data P(B|**A**) is true** **given** that **hypothesis P(**B**|A) is true** times our **prior belief** in the **hypothesis P(A)**, over the total independent likelihood of **Observed data P(B) ocurring**"
      ]
    },
    {
      "cell_type": "code",
      "metadata": {
        "id": "xpVhZyUnbf7o",
        "colab_type": "code",
        "colab": {}
      },
      "source": [
        "# To me the main difference Bayesian and Frequentist statistics are frequentist just look at the frequency a event in a population or sample. \n",
        "# While Bayesianist combines the frequency of a event with the knowledge of previous like events to make a decision to help identify the likelihood of the initial event."
      ],
      "execution_count": 0,
      "outputs": []
    },
    {
      "cell_type": "markdown",
      "metadata": {
        "id": "uWgWjp3PQ3Sq",
        "colab_type": "text"
      },
      "source": [
        "## Resources"
      ]
    },
    {
      "cell_type": "markdown",
      "metadata": {
        "id": "QRgHqmYIQ9qn",
        "colab_type": "text"
      },
      "source": [
        "- [Worked example of Bayes rule calculation](https://en.wikipedia.org/wiki/Bayes'_theorem#Examples) (helpful as it fully breaks out the denominator)\n",
        "- [Source code for mvsdist in scipy](https://github.com/scipy/scipy/blob/90534919e139d2a81c24bf08341734ff41a3db12/scipy/stats/morestats.py#L139)"
      ]
    },
    {
      "cell_type": "markdown",
      "metadata": {
        "id": "GP7Jv1XvwtkX",
        "colab_type": "text"
      },
      "source": [
        "## Stretch Goals:\n",
        "\n",
        "- Go back and study the content from Modules 1 & 2 to make sure that you're really comfortable with them.\n",
        "- Apply a Bayesian technique to a problem you previously worked (in an assignment or project work) on from a frequentist (standard) perspective\n",
        "- Check out [PyMC3](https://docs.pymc.io/) (note this goes beyond hypothesis tests into modeling) - read the guides and work through some examples\n",
        "- Take PyMC3 further - see if you can build something with it!"
      ]
    },
    {
      "cell_type": "code",
      "metadata": {
        "id": "iDi0eFr1x-v_",
        "colab_type": "code",
        "colab": {}
      },
      "source": [
        ""
      ],
      "execution_count": 0,
      "outputs": []
    },
    {
      "cell_type": "code",
      "metadata": {
        "id": "m15Q4J8uGuJS",
        "colab_type": "code",
        "colab": {}
      },
      "source": [
        "# distraction lol got totally distracted                                    \n",
        "# Let's recreate the game with code.\n",
        "def lets_make_a_deal():\n",
        "  from random import choice\n",
        "\n",
        "  print(\"Welcome to let's make a deal\")\n",
        "  def gameloop():\n",
        "    doors = ['A', 'B', 'C']\n",
        "    car = choice(doors)\n",
        "    userdoor = input('Choose a door and win the new car: ').upper()\n",
        "    zonks = []\n",
        "    showzonk = []\n",
        "    for door in doors:\n",
        "      if door != car:\n",
        "        zonks.append(door)\n",
        "    for zonk in zonks:\n",
        "      if zonk != car and zonk != userdoor:\n",
        "        showzonk.append(zonk)\n",
        "    if len(showzonk) > 1:\n",
        "      showzonk = choice(showzonk)\n",
        "    if door != 'A' or door != 'B' or door != 'C':\n",
        "      print(f\"I'd like to help you out by revealing a zonk [Opens door {showzonk}]\")\n",
        "      userswap = input(\"Will you [Swap] or [Keep] you door: \").upper()\n",
        "      if userswap == 'SWAP':\n",
        "        swapdoor = []\n",
        "        for door in doors:\n",
        "          if door != car and door != showzonk:\n",
        "            swapdoor.append(door)\n",
        "            userdoor = swapdoor[0]\n",
        "      else:\n",
        "        userdoor = userdoor\n",
        "      if userdoor == car:\n",
        "        print(f\"You chose door {userdoor}: Wow you won enjoy your sweet ride!\")\n",
        "      elif userdoor != car:\n",
        "        print(f\"You chose door {userdoor}: I may be an annoying talking animal but I'm now your annoying talking animal. Hey man enjoy your talking donkey.\")\n",
        "        print(f'The car was behind door {car}, so glad to get rid of that donkey.')\n",
        "    else:\n",
        "      print(\"I don't know what you mean...\")\n",
        "\n",
        "  gameloop()"
      ],
      "execution_count": 0,
      "outputs": []
    }
  ]
}